{
 "cells": [
  {
   "cell_type": "code",
   "execution_count": 5,
   "metadata": {
    "collapsed": true
   },
   "outputs": [],
   "source": [
    "import requests"
   ]
  },
  {
   "cell_type": "code",
   "execution_count": 13,
   "metadata": {
    "collapsed": true
   },
   "outputs": [],
   "source": [
    "rJewish = requests.get('http://www.gutenberg.org/cache/epub/12327/pg12327.txt')\n",
    "jewish = rJewish.text\n",
    "jewish = ''.join([x for x in jewish if ord(x) < 128])\n",
    "\n",
    "## This is if I have downloaded the text, above is just grabbing it directly from the website\n",
    "#jewish = open(\"C:\\\\DjangoPractice\\\\nltk\\\\JewCook.txt\",\"r\").read()"
   ]
  },
  {
   "cell_type": "code",
   "execution_count": 14,
   "metadata": {
    "collapsed": false
   },
   "outputs": [
    {
     "name": "stdout",
     "output_type": "stream",
     "text": [
      "402\n"
     ]
    }
   ],
   "source": [
    "jewish = jewish.split('       *       *       *       *       *')\n",
    "print (len(jewish))"
   ]
  },
  {
   "cell_type": "code",
   "execution_count": 23,
   "metadata": {
    "collapsed": false
   },
   "outputs": [],
   "source": [
    "#jewish1 = open(\"C:\\\\DjangoPractice\\\\nltk\\\\JewIntCook.txt\",\"r\").read()\n",
    "rJewish1 = requests.get('http://www.gutenberg.org/cache/epub/12350/pg12350.txt')\n",
    "jewish1 = rJewish1.text\n",
    "jewish1 = ''.join([x for x in jewish1 if ord(x) < 128])"
   ]
  },
  {
   "cell_type": "code",
   "execution_count": 28,
   "metadata": {
    "collapsed": false
   },
   "outputs": [],
   "source": [
    "jewish1 = jewish1.split('\\r\\n\\r\\n\\r\\n')"
   ]
  },
  {
   "cell_type": "code",
   "execution_count": 29,
   "metadata": {
    "collapsed": false
   },
   "outputs": [
    {
     "name": "stdout",
     "output_type": "stream",
     "text": [
      "1707\n",
      "402\n"
     ]
    }
   ],
   "source": [
    "print (len (jewish1))\n",
    "print (len (jewish))"
   ]
  },
  {
   "cell_type": "code",
   "execution_count": 37,
   "metadata": {
    "collapsed": false
   },
   "outputs": [],
   "source": [
    "#notJ = open(\"C:\\\\DjangoPractice\\\\nltk\\\\SundayCook.txt\",\"r\").read()\n",
    "rnotJ = requests.get('http://www.gutenberg.org/cache/epub/31534/pg31534.txt')\n",
    "notJ = rnotJ.text\n",
    "notJ = ''.join([x for x in notJ if ord(x) < 128])"
   ]
  },
  {
   "cell_type": "code",
   "execution_count": 38,
   "metadata": {
    "collapsed": false
   },
   "outputs": [],
   "source": [
    "notJ = notJ.split('Menu')\n"
   ]
  },
  {
   "cell_type": "code",
   "execution_count": 36,
   "metadata": {
    "collapsed": false
   },
   "outputs": [
    {
     "data": {
      "text/plain": [
       "'\\r\\n\\r\\n          OYSTERS ON THE HALF SHELL\\r\\n\\r\\n          MANGOES      SALTED NUTS      OLIVES\\r\\n\\r\\n          CONSOMM DUCHESS--IMPERIAL STICKS\\r\\n\\r\\n          CRAB MEAT IN TIMBALE CASES\\r\\n\\r\\n          \"GREEN\" GOOSE ROASTED--POTATO AND NUT STUFFING\\r\\n\\r\\n          CHANTILLY APPLE SAUCE\\r\\n\\r\\n          ONIONS AU GRATIN\\r\\n\\r\\n          ENDIVE, CELERY AND GREEN PEPPER SALAD\\r\\n\\r\\n          VANILLA ICE CREAM--CHOCOLATE SAUCE\\r\\n\\r\\n          COCOANUT CUBES--CHOCOLATE NUT CAKE\\r\\n\\r\\n          FRUIT      RAISINS      NUTS\\r\\n\\r\\n          ROQUEFORT CHEESE--WATER BISCUIT\\r\\n\\r\\n          CAF NOIR\\r\\n\\r\\n       *       *       *       *       *\\r\\n\\r\\nOYSTERS ON THE HALF SHELL\\r\\n\\r\\n          3 dozen oysters.\\r\\n          2 lemons cut in quarters.\\r\\n          Salt, pepper, Tobasco, horseradish and Tomato catsup.\\r\\n\\r\\nPROCESS: If possible, have the little Blue Points. Open, loosen, and\\r\\nleave them on the lower shell. Fill soup plates with shaved ice and\\r\\narrange shell on ice having the small end of shells point toward center\\r\\nof the plate. Wash lemons, cut in quarters, remove seeds and serve\\r\\none-quarter in center of each plate. Garnish with sprays of parsley\\r\\narranged between the shells. Pass remaining ingredients on a small\\r\\nsilver tray, or a cocktail dressing may be made and served in a small\\r\\nglass dish and passed to each guest.\\r\\n\\r\\n\\r\\nCONSOMM DUCHESS\\r\\n\\r\\nConsomm served with a meringue, prepared as follows: Beat the whites of\\r\\neggs very stiff and drop by heaping tablespoonsful into milk heated to\\r\\nthe scalding point in a shallow vessel (a dripping pan is the best),\\r\\nusing care that milk does not scorch. Turn each spoonful, allowing it to\\r\\ncook, until it sets. Place one of these individual meringues on the top\\r\\nof each service of consomm, and sprinkle with finely chopped parsley.\\r\\nServe with Imperial Sticks.\\r\\n\\r\\n\\r\\nIMPERIAL STICKS\\r\\n\\r\\nCut stale bread in one-third inch slices, remove the crusts. Spread\\r\\nthinly with butter. Cut slices in one-third inch strips, put on a tin\\r\\nsheet and bake until a delicate brown in a hot oven. Pile \"log cabin\"\\r\\nfashion on a plate covered with a doily, or serve two sticks on plate by\\r\\nthe side of cup in which soup is served.\\r\\n\\r\\n\\r\\nCRAB MEAT IN TIMBALE CASES\\r\\n\\r\\n          8 Timbale cases.\\r\\n          2 cups crab meat.\\r\\n          3 tablespoons butter.\\r\\n          3 tablespoons flour.\\r\\n          Yolks 2 eggs.\\r\\n          1 tablespoon onion finely chopped.\\r\\n          Salt, pepper, paprika.\\r\\n          Few grains each cayenne, mustard and nutmeg.\\r\\n          2 cups hot thin cream.\\r\\n\\r\\nPROCESS: Melt butter in a sauce pan, add onion and cook five minutes\\r\\nwithout browning, stirring constantly. Add flour and stir until well\\r\\nblended. Add hot cream gradually, continue stirring, add seasoning to\\r\\ntaste. Remove from range and add egg yolks slightly beaten. Reheat crab\\r\\nmeat in sauce (over hot water). Serve in Swedish Timbales.\\r\\n\\r\\n\\r\\nSWEDISH TIMBALES\\r\\n\\r\\n          1 cup flour.\\r\\n          1/2 teaspoon salt.\\r\\n          1 teaspoon sugar.\\r\\n          1 egg.\\r\\n          2/3 cup milk.\\r\\n          1 tablespoon olive oil.\\r\\n\\r\\nPROCESS: Mix and sift flour, salt and sugar, add milk slowly, stirring\\r\\nconstantly, add well beaten egg and olive oil. Mixture should be very\\r\\nsmooth, strain and let stand over night. Heat a timbale iron in hot\\r\\nCottolene, drain and dip iron into batter, (having batter in a small\\r\\npitcher), place in hot Cottolene and fry until crisp and delicately\\r\\nbrowned. Remove from iron and invert on brown paper. These dainty cases\\r\\nare for all kinds of creamed mixtures. They are used instead of patty\\r\\nshells or croustades.\\r\\n\\r\\n\\r\\nROAST GOOSE\\r\\n\\r\\nPREPARING THE GOOSE FOR THE OVEN\\r\\n\\r\\nSinge, and remove all pin feathers. Before drawing the bird give it a\\r\\nthorough scrubbing with a brush, in a warm Fairy soap solution. This is\\r\\nvery necessary for it cleans off all dirt that becomes mixed with the\\r\\noily secretions, and opens and cleanses the pores that the oil may be\\r\\nmore readily extracted. Draw and remove everything that can be taken\\r\\nout, then rinse thoroughly and wipe inside and out, with a clean crash\\r\\ntowel; sprinkle the inside lightly with salt, pepper, and powdered sage.\\r\\n(The latter may be omitted.)\\r\\n\\r\\nStuff with the following mixture and truss as turkey.\\r\\n\\r\\n\\r\\nPOTATO AND NUT STUFFING\\r\\n\\r\\n(FOR ROAST GOOSE OR DUCK)\\r\\n\\r\\n          4 cups hot mashed potatoes.\\r\\n          2-1/2 tablespoons finely chopped onion or chives.\\r\\n          1 cup English Walnut meats chopped moderately.\\r\\n          1/2 teaspoon paprika.\\r\\n          1-1/4 teaspoon salt.\\r\\n          1/2 cup cream.\\r\\n          2 tablespoons butter.\\r\\n          Yolks of 2 eggs.\\r\\n          1 teaspoon sweet herbs if the flavor is desired.\\r\\n\\r\\nPROCESS: Mix the ingredients in the order given and fill the body of the\\r\\ngoose.\\r\\n\\r\\n\\r\\nROASTING THE BIRD\\r\\n\\r\\nAfter trussing, place the goose on a rack in a dripping pan, sprinkle\\r\\nwith salt, cover the breast with thin slices of fat salt pork, and place\\r\\nin the oven. Cook three-quarters of an hour, basting often with the fat\\r\\nin the pan. Then remove pan from oven and drain off all the fat. Remove\\r\\nthe slices of pork and sprinkle again with salt and dredge with flour\\r\\nand return to oven. When the flour is delicately browned, add one cup of\\r\\nboiling water and baste often; add more water when necessary. Sprinkle\\r\\nlightly with salt and again dredge with flour. Cook until tender, from\\r\\none and one-half to three hours, according to the age of the bird. If\\r\\nyou have a very young goose it is infinitely better to steam or braise\\r\\nit until tender, then dredge it with salt and flour and brown it richly\\r\\nin the oven. Serve on a bed of cress, garnish with Baked Snow or\\r\\nJonathan apples.\\r\\n\\r\\n\\r\\nCHANTILLY APPLE SAUCE (WITH HORSERADISH)\\r\\n\\r\\nPare, core and cut in quarters, five medium-sized Greenings. Cook with\\r\\nvery little water; when quite dry, rub through a fine pure strainer. To\\r\\nthe pulp add one-half cup granulated sugar, five tablespoons grated\\r\\nhorseradish, then fold in an equal quantity of whipped cream. Serve at\\r\\nonce with roast goose, ducks or goslings.\\r\\n\\r\\n\\r\\nONIONS AU GRATIN\\r\\n\\r\\nCook one quart of uniform-sized, silver-skinned onions in boiling salted\\r\\nwater. When quite tender, drain and turn into a baking dish; cover with\\r\\nCream Sauce (see Page 151), sprinkle the top with fine buttered cracker\\r\\ncrumbs and finish cooking. Brown crumbs delicately.\\r\\n\\r\\n\\r\\nENDIVE, CELERY AND GREEN PEPPER SALAD\\r\\n\\r\\nSelect crisp, well-bleached heads of endive, separate the leaves,\\r\\nkeeping the green leaves separate from the bleached; wash and dry.\\r\\nDispose the leaves on individual plates of ample size. Arrange the green\\r\\nleaves first, then the bleached leaves until a nest has been formed;\\r\\nfill the centers with the hearts of celery cut in one-half inch pieces.\\r\\nCut a slice from the stem end of crisp red and green peppers, remove the\\r\\nseeds and veins and cut in the thinnest shreds possible, using the\\r\\nshears. Strew these shreds over each portion and, just before serving,\\r\\nmarinate each with French Dressing.\\r\\n\\r\\n\\r\\nVANILLA ICE CREAM\\r\\n\\r\\n          3/4 cup sugar.\\r\\n          1/3 cup water.\\r\\n          1 quart cream.\\r\\n          1-1/2 tablespoons vanilla.\\r\\n\\r\\nPROCESS: Make a syrup by boiling sugar and water three minutes. Cool\\r\\nslightly and add to cream, add vanilla and freeze in the usual way. Pack\\r\\nin a brick-shape mold. Bury in salt and ice, let stand several hours.\\r\\nRemove from mold to serving platter and pour around each portion Hot\\r\\nChocolate Sauce.\\r\\n\\r\\n\\r\\nHOT CHOCOLATE SAUCE\\r\\n\\r\\nMelt two squares chocolate in a sauce-pan, add one cup sugar, one\\r\\ntablespoon butter and two-thirds cup boiling water. Simmer fifteen\\r\\nminutes. Cool slightly and add three-fourths teaspoon vanilla.\\r\\n\\r\\n\\r\\nCOCOANUT CUBES\\r\\n\\r\\nUse recipe for Bride\\'s Cake (see recipe on Page 175). Bake in a sheet.\\r\\nWhen cool cut in two-inch cubes and cover each cube with Boiled\\r\\nFrosting; sprinkle thickly with fresh grated cocoanut.\\r\\n\\r\\n\\r\\nCHOCOLATE NUT CAKE\\r\\n\\r\\n          1/3 cup Cottolene.\\r\\n          2 cups sugar.\\r\\n          4 eggs.\\r\\n          1 cup milk.\\r\\n          2-1/3 cups flour.\\r\\n          4 teaspoons baking powder.\\r\\n          1/4 teaspoon salt.\\r\\n          2 squares chocolate melted.\\r\\n          3/4 cup English walnut meats broken in pieces.\\r\\n          1/2 teaspoon vanilla.\\r\\n\\r\\nPROCESS: Cream Cottolene, add gradually one cup sugar, stirring\\r\\nconstantly. Beat egg yolks thick and light, add gradually remaining cup\\r\\nof sugar; combine mixtures. Add melted chocolate. Mix and sift flour,\\r\\nbaking powder and salt; add to first mixture alternately with milk. Add\\r\\nnut meats and vanilla, then cut and fold in the whites of eggs beaten\\r\\nstiff. Turn into a well-greased tube pan and bake forty-five minutes in\\r\\na moderate oven. Cool and spread with boiled frosting.\\r\\n\\r\\n[Sidenote: _January_\\r\\n\\r\\n_Second Sunday_]\\r\\n\\r\\n\\r\\n\\r\\n\\r\\n'"
      ]
     },
     "execution_count": 36,
     "metadata": {},
     "output_type": "execute_result"
    }
   ],
   "source": [
    "notJ[1]\n",
    "\n",
    "# Need to create a for loop to split based on 3 or more uppercase letters in a row\n",
    "# But need to skip the first section... so split based on * * * *??"
   ]
  },
  {
   "cell_type": "code",
   "execution_count": null,
   "metadata": {
    "collapsed": true
   },
   "outputs": [],
   "source": []
  }
 ],
 "metadata": {
  "anaconda-cloud": {},
  "kernelspec": {
   "display_name": "Python [conda root]",
   "language": "python",
   "name": "conda-root-py"
  },
  "language_info": {
   "codemirror_mode": {
    "name": "ipython",
    "version": 3
   },
   "file_extension": ".py",
   "mimetype": "text/x-python",
   "name": "python",
   "nbconvert_exporter": "python",
   "pygments_lexer": "ipython3",
   "version": "3.5.2"
  }
 },
 "nbformat": 4,
 "nbformat_minor": 1
}
