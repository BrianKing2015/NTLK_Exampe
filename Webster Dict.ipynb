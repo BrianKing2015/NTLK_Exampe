{
 "cells": [
  {
   "cell_type": "code",
   "execution_count": 1,
   "metadata": {
    "collapsed": true
   },
   "outputs": [],
   "source": [
    "with open (\"C:\\\\DjangoPractice\\\\nltk\\\\Gutenberg\\\\29765-8.txt\") as f:\n",
    "    webDict = f.read()"
   ]
  },
  {
   "cell_type": "code",
   "execution_count": 23,
   "metadata": {
    "collapsed": false
   },
   "outputs": [],
   "source": [
    "import re\n",
    "pattern = re.compile(r'([A-Z]{3}\\S+)')\n",
    "etymPattern = re.compile(r'Etym: ')"
   ]
  },
  {
   "cell_type": "code",
   "execution_count": 24,
   "metadata": {
    "collapsed": false
   },
   "outputs": [],
   "source": [
    "words = re.findall(pattern, webDict[5668:])\n",
    "data = re.split(pattern, webDict[5668:])"
   ]
  },
  {
   "cell_type": "code",
   "execution_count": 32,
   "metadata": {
    "collapsed": true
   },
   "outputs": [],
   "source": [
    "word = []\n",
    "etym = []"
   ]
  },
  {
   "cell_type": "code",
   "execution_count": 33,
   "metadata": {
    "collapsed": false
   },
   "outputs": [],
   "source": [
    "for i in range (len(words)):\n",
    "    word.append (words[i])\n",
    "    temp =(re.split (etymPattern,data[i+1]))\n",
    "    try:\n",
    "        etym.append(temp[1][1:3])\n",
    "    except IndexError:\n",
    "        etym.append(\"Not Available\")"
   ]
  },
  {
   "cell_type": "code",
   "execution_count": 34,
   "metadata": {
    "collapsed": false
   },
   "outputs": [
    {
     "name": "stdout",
     "output_type": "stream",
     "text": [
      "ABAISANCE\n",
      "Pr\n",
      "ABAISER\n",
      "Not Available\n",
      "ABAIST\n",
      "Not Available\n",
      "ABALIENATE\n",
      "Not Available\n",
      "ABALIENATION\n",
      "L.\n",
      "ABALONE\n",
      "Not Available\n",
      "ABAND\n",
      "Not Available\n",
      "ABANDON\n",
      "Not Available\n",
      "OHG.\n",
      "L.\n",
      "ABANDON\n",
      "Not Available\n",
      "ABANDON\n",
      "L.\n",
      "ABANDONED\n",
      "Not Available\n",
      "ABANDONEDLY\n",
      "L.\n",
      "ABANDONEE\n",
      "Not Available\n",
      "ABANDONER\n",
      "Pg\n",
      "ABANDONMENT\n",
      "Not Available\n",
      "ABANDUM\n",
      "He\n",
      "ABANET\n",
      "Not Available\n",
      "ABANGA\n",
      "Pr\n",
      "ABANNATION;\n",
      "Not Available\n"
     ]
    }
   ],
   "source": [
    "for i in range (20):\n",
    "    print (word[i+21])\n",
    "    print (etym[i+21])"
   ]
  },
  {
   "cell_type": "code",
   "execution_count": 36,
   "metadata": {
    "collapsed": false
   },
   "outputs": [
    {
     "name": "stdout",
     "output_type": "stream",
     "text": [
      "242\n"
     ]
    }
   ],
   "source": [
    "s = set(etym)\n",
    "print (len (s))"
   ]
  },
  {
   "cell_type": "code",
   "execution_count": 37,
   "metadata": {
    "collapsed": true
   },
   "outputs": [],
   "source": []
  },
  {
   "cell_type": "code",
   "execution_count": 41,
   "metadata": {
    "collapsed": false
   },
   "outputs": [
    {
     "data": {
      "text/plain": [
       "'Cf.'"
      ]
     },
     "execution_count": 41,
     "metadata": {},
     "output_type": "execute_result"
    }
   ],
   "source": [
    "thing[1][1:4]"
   ]
  },
  {
   "cell_type": "code",
   "execution_count": null,
   "metadata": {
    "collapsed": true
   },
   "outputs": [],
   "source": []
  }
 ],
 "metadata": {
  "anaconda-cloud": {},
  "kernelspec": {
   "display_name": "Python [default]",
   "language": "python",
   "name": "python3"
  },
  "language_info": {
   "codemirror_mode": {
    "name": "ipython",
    "version": 3
   },
   "file_extension": ".py",
   "mimetype": "text/x-python",
   "name": "python",
   "nbconvert_exporter": "python",
   "pygments_lexer": "ipython3",
   "version": "3.5.2"
  }
 },
 "nbformat": 4,
 "nbformat_minor": 1
}
